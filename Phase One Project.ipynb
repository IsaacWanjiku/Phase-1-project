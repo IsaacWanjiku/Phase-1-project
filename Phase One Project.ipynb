{
 "cells": [
  {
   "cell_type": "markdown",
   "metadata": {},
   "source": [
    "# Data-Driven Selection of Aircraft "
   ]
  },
  {
   "cell_type": "markdown",
   "metadata": {},
   "source": [
    "## Project Overview\n",
    "* For this project, I will perfom various actions including data cleaning, analysis, and visualization to generate insights for the business stakeholder.This will involve use of Python language and CRISP-DM methodology."
   ]
  },
  {
   "cell_type": "markdown",
   "metadata": {},
   "source": [
    "## Business Problem at Hand\n",
    "*  Company is expanding into new industries to diversify its portfolio. Specifically, interested in purchasing and operating airplanes for commercial and private enterprises.This will need determining which aircraft are the lowest risk for the company to start this new business endeavor. \n",
    "\n",
    "* Aviation data from reliable source will help translate findings into actionable insights that the head of the new aviation division can use to help decide which aircraft to purchase. \n",
    "\n",
    "* The company seeks to identify the lowest-risk aircraft for purchase by considering factors such as safety records, operating costs, and customer demands, using aviation data from the National Transportation Safety Board."
   ]
  },
  {
   "cell_type": "markdown",
   "metadata": {
    "vscode": {
     "languageId": "plaintext"
    }
   },
   "source": [
    "## Data Understading and Analysis \n",
    " * The main goal of data understanding is to gain general insights about the data that will potentially be helpful for the further steps in the data analysis process.\n",
    " * Data analysis inspects, cleans, transforms, and models data to extract insights and support decision-making.\n",
    " * Initial steps focus on gaining insights from the data, followed by analysis to support decision-making.\n",
    "\n",
    "### We start with loading the data, and try to understand it here.\n",
    "  "
   ]
  },
  {
   "cell_type": "code",
   "execution_count": 1,
   "metadata": {},
   "outputs": [],
   "source": [
    "# Import relevant python libraries\n",
    "import pandas as pd\n",
    "import matplotlib.pyplot as plt\n",
    "import seaborn as sns\n",
    "import numpy as np\n"
   ]
  },
  {
   "cell_type": "code",
   "execution_count": 2,
   "metadata": {},
   "outputs": [
    {
     "ename": "FileNotFoundError",
     "evalue": "[Errno 2] No such file or directory: 'AviationData.csv'",
     "output_type": "error",
     "traceback": [
      "\u001b[0;31m---------------------------------------------------------------------------\u001b[0m",
      "\u001b[0;31mFileNotFoundError\u001b[0m                         Traceback (most recent call last)",
      "Input \u001b[0;32mIn [2]\u001b[0m, in \u001b[0;36m<cell line: 2>\u001b[0;34m()\u001b[0m\n\u001b[1;32m      1\u001b[0m \u001b[38;5;66;03m# load dataset for use here\u001b[39;00m\n\u001b[0;32m----> 2\u001b[0m df \u001b[38;5;241m=\u001b[39m \u001b[43mpd\u001b[49m\u001b[38;5;241;43m.\u001b[39;49m\u001b[43mread_csv\u001b[49m\u001b[43m(\u001b[49m\u001b[38;5;124;43m\"\u001b[39;49m\u001b[38;5;124;43mAviationData.csv\u001b[39;49m\u001b[38;5;124;43m\"\u001b[39;49m\u001b[43m,\u001b[49m\u001b[43m \u001b[49m\u001b[43mencoding\u001b[49m\u001b[38;5;241;43m=\u001b[39;49m\u001b[38;5;124;43m'\u001b[39;49m\u001b[38;5;124;43mISO-8859-1\u001b[39;49m\u001b[38;5;124;43m'\u001b[39;49m\u001b[43m)\u001b[49m\n\u001b[1;32m      4\u001b[0m \u001b[38;5;66;03m#load first five records\u001b[39;00m\n\u001b[1;32m      5\u001b[0m df\u001b[38;5;241m.\u001b[39mhead()\n",
      "File \u001b[0;32m~/anaconda3/lib/python3.9/site-packages/pandas/util/_decorators.py:311\u001b[0m, in \u001b[0;36mdeprecate_nonkeyword_arguments.<locals>.decorate.<locals>.wrapper\u001b[0;34m(*args, **kwargs)\u001b[0m\n\u001b[1;32m    305\u001b[0m \u001b[38;5;28;01mif\u001b[39;00m \u001b[38;5;28mlen\u001b[39m(args) \u001b[38;5;241m>\u001b[39m num_allow_args:\n\u001b[1;32m    306\u001b[0m     warnings\u001b[38;5;241m.\u001b[39mwarn(\n\u001b[1;32m    307\u001b[0m         msg\u001b[38;5;241m.\u001b[39mformat(arguments\u001b[38;5;241m=\u001b[39marguments),\n\u001b[1;32m    308\u001b[0m         \u001b[38;5;167;01mFutureWarning\u001b[39;00m,\n\u001b[1;32m    309\u001b[0m         stacklevel\u001b[38;5;241m=\u001b[39mstacklevel,\n\u001b[1;32m    310\u001b[0m     )\n\u001b[0;32m--> 311\u001b[0m \u001b[38;5;28;01mreturn\u001b[39;00m \u001b[43mfunc\u001b[49m\u001b[43m(\u001b[49m\u001b[38;5;241;43m*\u001b[39;49m\u001b[43margs\u001b[49m\u001b[43m,\u001b[49m\u001b[43m \u001b[49m\u001b[38;5;241;43m*\u001b[39;49m\u001b[38;5;241;43m*\u001b[39;49m\u001b[43mkwargs\u001b[49m\u001b[43m)\u001b[49m\n",
      "File \u001b[0;32m~/anaconda3/lib/python3.9/site-packages/pandas/io/parsers/readers.py:680\u001b[0m, in \u001b[0;36mread_csv\u001b[0;34m(filepath_or_buffer, sep, delimiter, header, names, index_col, usecols, squeeze, prefix, mangle_dupe_cols, dtype, engine, converters, true_values, false_values, skipinitialspace, skiprows, skipfooter, nrows, na_values, keep_default_na, na_filter, verbose, skip_blank_lines, parse_dates, infer_datetime_format, keep_date_col, date_parser, dayfirst, cache_dates, iterator, chunksize, compression, thousands, decimal, lineterminator, quotechar, quoting, doublequote, escapechar, comment, encoding, encoding_errors, dialect, error_bad_lines, warn_bad_lines, on_bad_lines, delim_whitespace, low_memory, memory_map, float_precision, storage_options)\u001b[0m\n\u001b[1;32m    665\u001b[0m kwds_defaults \u001b[38;5;241m=\u001b[39m _refine_defaults_read(\n\u001b[1;32m    666\u001b[0m     dialect,\n\u001b[1;32m    667\u001b[0m     delimiter,\n\u001b[0;32m   (...)\u001b[0m\n\u001b[1;32m    676\u001b[0m     defaults\u001b[38;5;241m=\u001b[39m{\u001b[38;5;124m\"\u001b[39m\u001b[38;5;124mdelimiter\u001b[39m\u001b[38;5;124m\"\u001b[39m: \u001b[38;5;124m\"\u001b[39m\u001b[38;5;124m,\u001b[39m\u001b[38;5;124m\"\u001b[39m},\n\u001b[1;32m    677\u001b[0m )\n\u001b[1;32m    678\u001b[0m kwds\u001b[38;5;241m.\u001b[39mupdate(kwds_defaults)\n\u001b[0;32m--> 680\u001b[0m \u001b[38;5;28;01mreturn\u001b[39;00m \u001b[43m_read\u001b[49m\u001b[43m(\u001b[49m\u001b[43mfilepath_or_buffer\u001b[49m\u001b[43m,\u001b[49m\u001b[43m \u001b[49m\u001b[43mkwds\u001b[49m\u001b[43m)\u001b[49m\n",
      "File \u001b[0;32m~/anaconda3/lib/python3.9/site-packages/pandas/io/parsers/readers.py:575\u001b[0m, in \u001b[0;36m_read\u001b[0;34m(filepath_or_buffer, kwds)\u001b[0m\n\u001b[1;32m    572\u001b[0m _validate_names(kwds\u001b[38;5;241m.\u001b[39mget(\u001b[38;5;124m\"\u001b[39m\u001b[38;5;124mnames\u001b[39m\u001b[38;5;124m\"\u001b[39m, \u001b[38;5;28;01mNone\u001b[39;00m))\n\u001b[1;32m    574\u001b[0m \u001b[38;5;66;03m# Create the parser.\u001b[39;00m\n\u001b[0;32m--> 575\u001b[0m parser \u001b[38;5;241m=\u001b[39m \u001b[43mTextFileReader\u001b[49m\u001b[43m(\u001b[49m\u001b[43mfilepath_or_buffer\u001b[49m\u001b[43m,\u001b[49m\u001b[43m \u001b[49m\u001b[38;5;241;43m*\u001b[39;49m\u001b[38;5;241;43m*\u001b[39;49m\u001b[43mkwds\u001b[49m\u001b[43m)\u001b[49m\n\u001b[1;32m    577\u001b[0m \u001b[38;5;28;01mif\u001b[39;00m chunksize \u001b[38;5;129;01mor\u001b[39;00m iterator:\n\u001b[1;32m    578\u001b[0m     \u001b[38;5;28;01mreturn\u001b[39;00m parser\n",
      "File \u001b[0;32m~/anaconda3/lib/python3.9/site-packages/pandas/io/parsers/readers.py:933\u001b[0m, in \u001b[0;36mTextFileReader.__init__\u001b[0;34m(self, f, engine, **kwds)\u001b[0m\n\u001b[1;32m    930\u001b[0m     \u001b[38;5;28mself\u001b[39m\u001b[38;5;241m.\u001b[39moptions[\u001b[38;5;124m\"\u001b[39m\u001b[38;5;124mhas_index_names\u001b[39m\u001b[38;5;124m\"\u001b[39m] \u001b[38;5;241m=\u001b[39m kwds[\u001b[38;5;124m\"\u001b[39m\u001b[38;5;124mhas_index_names\u001b[39m\u001b[38;5;124m\"\u001b[39m]\n\u001b[1;32m    932\u001b[0m \u001b[38;5;28mself\u001b[39m\u001b[38;5;241m.\u001b[39mhandles: IOHandles \u001b[38;5;241m|\u001b[39m \u001b[38;5;28;01mNone\u001b[39;00m \u001b[38;5;241m=\u001b[39m \u001b[38;5;28;01mNone\u001b[39;00m\n\u001b[0;32m--> 933\u001b[0m \u001b[38;5;28mself\u001b[39m\u001b[38;5;241m.\u001b[39m_engine \u001b[38;5;241m=\u001b[39m \u001b[38;5;28;43mself\u001b[39;49m\u001b[38;5;241;43m.\u001b[39;49m\u001b[43m_make_engine\u001b[49m\u001b[43m(\u001b[49m\u001b[43mf\u001b[49m\u001b[43m,\u001b[49m\u001b[43m \u001b[49m\u001b[38;5;28;43mself\u001b[39;49m\u001b[38;5;241;43m.\u001b[39;49m\u001b[43mengine\u001b[49m\u001b[43m)\u001b[49m\n",
      "File \u001b[0;32m~/anaconda3/lib/python3.9/site-packages/pandas/io/parsers/readers.py:1217\u001b[0m, in \u001b[0;36mTextFileReader._make_engine\u001b[0;34m(self, f, engine)\u001b[0m\n\u001b[1;32m   1213\u001b[0m     mode \u001b[38;5;241m=\u001b[39m \u001b[38;5;124m\"\u001b[39m\u001b[38;5;124mrb\u001b[39m\u001b[38;5;124m\"\u001b[39m\n\u001b[1;32m   1214\u001b[0m \u001b[38;5;66;03m# error: No overload variant of \"get_handle\" matches argument types\u001b[39;00m\n\u001b[1;32m   1215\u001b[0m \u001b[38;5;66;03m# \"Union[str, PathLike[str], ReadCsvBuffer[bytes], ReadCsvBuffer[str]]\"\u001b[39;00m\n\u001b[1;32m   1216\u001b[0m \u001b[38;5;66;03m# , \"str\", \"bool\", \"Any\", \"Any\", \"Any\", \"Any\", \"Any\"\u001b[39;00m\n\u001b[0;32m-> 1217\u001b[0m \u001b[38;5;28mself\u001b[39m\u001b[38;5;241m.\u001b[39mhandles \u001b[38;5;241m=\u001b[39m \u001b[43mget_handle\u001b[49m\u001b[43m(\u001b[49m\u001b[43m  \u001b[49m\u001b[38;5;66;43;03m# type: ignore[call-overload]\u001b[39;49;00m\n\u001b[1;32m   1218\u001b[0m \u001b[43m    \u001b[49m\u001b[43mf\u001b[49m\u001b[43m,\u001b[49m\n\u001b[1;32m   1219\u001b[0m \u001b[43m    \u001b[49m\u001b[43mmode\u001b[49m\u001b[43m,\u001b[49m\n\u001b[1;32m   1220\u001b[0m \u001b[43m    \u001b[49m\u001b[43mencoding\u001b[49m\u001b[38;5;241;43m=\u001b[39;49m\u001b[38;5;28;43mself\u001b[39;49m\u001b[38;5;241;43m.\u001b[39;49m\u001b[43moptions\u001b[49m\u001b[38;5;241;43m.\u001b[39;49m\u001b[43mget\u001b[49m\u001b[43m(\u001b[49m\u001b[38;5;124;43m\"\u001b[39;49m\u001b[38;5;124;43mencoding\u001b[39;49m\u001b[38;5;124;43m\"\u001b[39;49m\u001b[43m,\u001b[49m\u001b[43m \u001b[49m\u001b[38;5;28;43;01mNone\u001b[39;49;00m\u001b[43m)\u001b[49m\u001b[43m,\u001b[49m\n\u001b[1;32m   1221\u001b[0m \u001b[43m    \u001b[49m\u001b[43mcompression\u001b[49m\u001b[38;5;241;43m=\u001b[39;49m\u001b[38;5;28;43mself\u001b[39;49m\u001b[38;5;241;43m.\u001b[39;49m\u001b[43moptions\u001b[49m\u001b[38;5;241;43m.\u001b[39;49m\u001b[43mget\u001b[49m\u001b[43m(\u001b[49m\u001b[38;5;124;43m\"\u001b[39;49m\u001b[38;5;124;43mcompression\u001b[39;49m\u001b[38;5;124;43m\"\u001b[39;49m\u001b[43m,\u001b[49m\u001b[43m \u001b[49m\u001b[38;5;28;43;01mNone\u001b[39;49;00m\u001b[43m)\u001b[49m\u001b[43m,\u001b[49m\n\u001b[1;32m   1222\u001b[0m \u001b[43m    \u001b[49m\u001b[43mmemory_map\u001b[49m\u001b[38;5;241;43m=\u001b[39;49m\u001b[38;5;28;43mself\u001b[39;49m\u001b[38;5;241;43m.\u001b[39;49m\u001b[43moptions\u001b[49m\u001b[38;5;241;43m.\u001b[39;49m\u001b[43mget\u001b[49m\u001b[43m(\u001b[49m\u001b[38;5;124;43m\"\u001b[39;49m\u001b[38;5;124;43mmemory_map\u001b[39;49m\u001b[38;5;124;43m\"\u001b[39;49m\u001b[43m,\u001b[49m\u001b[43m \u001b[49m\u001b[38;5;28;43;01mFalse\u001b[39;49;00m\u001b[43m)\u001b[49m\u001b[43m,\u001b[49m\n\u001b[1;32m   1223\u001b[0m \u001b[43m    \u001b[49m\u001b[43mis_text\u001b[49m\u001b[38;5;241;43m=\u001b[39;49m\u001b[43mis_text\u001b[49m\u001b[43m,\u001b[49m\n\u001b[1;32m   1224\u001b[0m \u001b[43m    \u001b[49m\u001b[43merrors\u001b[49m\u001b[38;5;241;43m=\u001b[39;49m\u001b[38;5;28;43mself\u001b[39;49m\u001b[38;5;241;43m.\u001b[39;49m\u001b[43moptions\u001b[49m\u001b[38;5;241;43m.\u001b[39;49m\u001b[43mget\u001b[49m\u001b[43m(\u001b[49m\u001b[38;5;124;43m\"\u001b[39;49m\u001b[38;5;124;43mencoding_errors\u001b[39;49m\u001b[38;5;124;43m\"\u001b[39;49m\u001b[43m,\u001b[49m\u001b[43m \u001b[49m\u001b[38;5;124;43m\"\u001b[39;49m\u001b[38;5;124;43mstrict\u001b[39;49m\u001b[38;5;124;43m\"\u001b[39;49m\u001b[43m)\u001b[49m\u001b[43m,\u001b[49m\n\u001b[1;32m   1225\u001b[0m \u001b[43m    \u001b[49m\u001b[43mstorage_options\u001b[49m\u001b[38;5;241;43m=\u001b[39;49m\u001b[38;5;28;43mself\u001b[39;49m\u001b[38;5;241;43m.\u001b[39;49m\u001b[43moptions\u001b[49m\u001b[38;5;241;43m.\u001b[39;49m\u001b[43mget\u001b[49m\u001b[43m(\u001b[49m\u001b[38;5;124;43m\"\u001b[39;49m\u001b[38;5;124;43mstorage_options\u001b[39;49m\u001b[38;5;124;43m\"\u001b[39;49m\u001b[43m,\u001b[49m\u001b[43m \u001b[49m\u001b[38;5;28;43;01mNone\u001b[39;49;00m\u001b[43m)\u001b[49m\u001b[43m,\u001b[49m\n\u001b[1;32m   1226\u001b[0m \u001b[43m\u001b[49m\u001b[43m)\u001b[49m\n\u001b[1;32m   1227\u001b[0m \u001b[38;5;28;01massert\u001b[39;00m \u001b[38;5;28mself\u001b[39m\u001b[38;5;241m.\u001b[39mhandles \u001b[38;5;129;01mis\u001b[39;00m \u001b[38;5;129;01mnot\u001b[39;00m \u001b[38;5;28;01mNone\u001b[39;00m\n\u001b[1;32m   1228\u001b[0m f \u001b[38;5;241m=\u001b[39m \u001b[38;5;28mself\u001b[39m\u001b[38;5;241m.\u001b[39mhandles\u001b[38;5;241m.\u001b[39mhandle\n",
      "File \u001b[0;32m~/anaconda3/lib/python3.9/site-packages/pandas/io/common.py:789\u001b[0m, in \u001b[0;36mget_handle\u001b[0;34m(path_or_buf, mode, encoding, compression, memory_map, is_text, errors, storage_options)\u001b[0m\n\u001b[1;32m    784\u001b[0m \u001b[38;5;28;01melif\u001b[39;00m \u001b[38;5;28misinstance\u001b[39m(handle, \u001b[38;5;28mstr\u001b[39m):\n\u001b[1;32m    785\u001b[0m     \u001b[38;5;66;03m# Check whether the filename is to be opened in binary mode.\u001b[39;00m\n\u001b[1;32m    786\u001b[0m     \u001b[38;5;66;03m# Binary mode does not support 'encoding' and 'newline'.\u001b[39;00m\n\u001b[1;32m    787\u001b[0m     \u001b[38;5;28;01mif\u001b[39;00m ioargs\u001b[38;5;241m.\u001b[39mencoding \u001b[38;5;129;01mand\u001b[39;00m \u001b[38;5;124m\"\u001b[39m\u001b[38;5;124mb\u001b[39m\u001b[38;5;124m\"\u001b[39m \u001b[38;5;129;01mnot\u001b[39;00m \u001b[38;5;129;01min\u001b[39;00m ioargs\u001b[38;5;241m.\u001b[39mmode:\n\u001b[1;32m    788\u001b[0m         \u001b[38;5;66;03m# Encoding\u001b[39;00m\n\u001b[0;32m--> 789\u001b[0m         handle \u001b[38;5;241m=\u001b[39m \u001b[38;5;28;43mopen\u001b[39;49m\u001b[43m(\u001b[49m\n\u001b[1;32m    790\u001b[0m \u001b[43m            \u001b[49m\u001b[43mhandle\u001b[49m\u001b[43m,\u001b[49m\n\u001b[1;32m    791\u001b[0m \u001b[43m            \u001b[49m\u001b[43mioargs\u001b[49m\u001b[38;5;241;43m.\u001b[39;49m\u001b[43mmode\u001b[49m\u001b[43m,\u001b[49m\n\u001b[1;32m    792\u001b[0m \u001b[43m            \u001b[49m\u001b[43mencoding\u001b[49m\u001b[38;5;241;43m=\u001b[39;49m\u001b[43mioargs\u001b[49m\u001b[38;5;241;43m.\u001b[39;49m\u001b[43mencoding\u001b[49m\u001b[43m,\u001b[49m\n\u001b[1;32m    793\u001b[0m \u001b[43m            \u001b[49m\u001b[43merrors\u001b[49m\u001b[38;5;241;43m=\u001b[39;49m\u001b[43merrors\u001b[49m\u001b[43m,\u001b[49m\n\u001b[1;32m    794\u001b[0m \u001b[43m            \u001b[49m\u001b[43mnewline\u001b[49m\u001b[38;5;241;43m=\u001b[39;49m\u001b[38;5;124;43m\"\u001b[39;49m\u001b[38;5;124;43m\"\u001b[39;49m\u001b[43m,\u001b[49m\n\u001b[1;32m    795\u001b[0m \u001b[43m        \u001b[49m\u001b[43m)\u001b[49m\n\u001b[1;32m    796\u001b[0m     \u001b[38;5;28;01melse\u001b[39;00m:\n\u001b[1;32m    797\u001b[0m         \u001b[38;5;66;03m# Binary mode\u001b[39;00m\n\u001b[1;32m    798\u001b[0m         handle \u001b[38;5;241m=\u001b[39m \u001b[38;5;28mopen\u001b[39m(handle, ioargs\u001b[38;5;241m.\u001b[39mmode)\n",
      "\u001b[0;31mFileNotFoundError\u001b[0m: [Errno 2] No such file or directory: 'AviationData.csv'"
     ]
    }
   ],
   "source": [
    "# load dataset for use here\n",
    "df = pd.read_csv(\"AviationData.csv\", encoding='ISO-8859-1')\n",
    "\n",
    "#load first five records\n",
    "df.head()"
   ]
  },
  {
   "cell_type": "code",
   "execution_count": 85,
   "metadata": {},
   "outputs": [
    {
     "data": {
      "text/plain": [
       "Index(['Event.Id', 'Investigation.Type', 'Accident.Number', 'Event.Date',\n",
       "       'Location', 'Country', 'Latitude', 'Longitude', 'Airport.Code',\n",
       "       'Airport.Name', 'Injury.Severity', 'Aircraft.damage',\n",
       "       'Aircraft.Category', 'Registration.Number', 'Make', 'Model',\n",
       "       'Amateur.Built', 'Number.of.Engines', 'Engine.Type', 'FAR.Description',\n",
       "       'Schedule', 'Purpose.of.flight', 'Air.carrier', 'Total.Fatal.Injuries',\n",
       "       'Total.Serious.Injuries', 'Total.Minor.Injuries', 'Total.Uninjured',\n",
       "       'Weather.Condition', 'Broad.phase.of.flight', 'Report.Status',\n",
       "       'Publication.Date'],\n",
       "      dtype='object')"
      ]
     },
     "execution_count": 85,
     "metadata": {},
     "output_type": "execute_result"
    }
   ],
   "source": [
    "#Let's see columns here\n",
    "df.columns"
   ]
  },
  {
   "cell_type": "code",
   "execution_count": 86,
   "metadata": {},
   "outputs": [
    {
     "data": {
      "text/plain": [
       "Event.Id                      0\n",
       "Investigation.Type            0\n",
       "Accident.Number               0\n",
       "Event.Date                    0\n",
       "Location                     52\n",
       "Country                     226\n",
       "Latitude                  54507\n",
       "Longitude                 54516\n",
       "Airport.Code              38640\n",
       "Airport.Name              36099\n",
       "Injury.Severity            1000\n",
       "Aircraft.damage            3194\n",
       "Aircraft.Category         56602\n",
       "Registration.Number        1317\n",
       "Make                         63\n",
       "Model                        92\n",
       "Amateur.Built               102\n",
       "Number.of.Engines          6084\n",
       "Engine.Type                7077\n",
       "FAR.Description           56866\n",
       "Schedule                  76307\n",
       "Purpose.of.flight          6192\n",
       "Air.carrier               72241\n",
       "Total.Fatal.Injuries      11401\n",
       "Total.Serious.Injuries    12510\n",
       "Total.Minor.Injuries      11933\n",
       "Total.Uninjured            5912\n",
       "Weather.Condition          4492\n",
       "Broad.phase.of.flight     27165\n",
       "Report.Status              6381\n",
       "Publication.Date          13771\n",
       "dtype: int64"
      ]
     },
     "execution_count": 86,
     "metadata": {},
     "output_type": "execute_result"
    }
   ],
   "source": [
    "# Checking sum null values\n",
    "df.isna().sum()"
   ]
  },
  {
   "cell_type": "code",
   "execution_count": 87,
   "metadata": {},
   "outputs": [
    {
     "data": {
      "text/plain": [
       "(88889, 31)"
      ]
     },
     "execution_count": 87,
     "metadata": {},
     "output_type": "execute_result"
    }
   ],
   "source": [
    "# df.Shape will help us see number rows and columns \n",
    "df.shape"
   ]
  },
  {
   "cell_type": "code",
   "execution_count": 1,
   "metadata": {},
   "outputs": [
    {
     "ename": "NameError",
     "evalue": "name 'df' is not defined",
     "output_type": "error",
     "traceback": [
      "\u001b[0;31m---------------------------------------------------------------------------\u001b[0m",
      "\u001b[0;31mNameError\u001b[0m                                 Traceback (most recent call last)",
      "Input \u001b[0;32mIn [1]\u001b[0m, in \u001b[0;36m<cell line: 1>\u001b[0;34m()\u001b[0m\n\u001b[0;32m----> 1\u001b[0m \u001b[43mdf\u001b[49m\u001b[38;5;241m.\u001b[39mdescribe()\n",
      "\u001b[0;31mNameError\u001b[0m: name 'df' is not defined"
     ]
    }
   ],
   "source": [
    "df.describe()"
   ]
  },
  {
   "cell_type": "markdown",
   "metadata": {},
   "source": [
    "## We start data preparation, data cleaning, and remove duplicates"
   ]
  },
  {
   "cell_type": "code",
   "execution_count": 88,
   "metadata": {},
   "outputs": [
    {
     "data": {
      "text/plain": [
       "(88889, 22)"
      ]
     },
     "execution_count": 88,
     "metadata": {},
     "output_type": "execute_result"
    }
   ],
   "source": [
    "# Dropping the columns having more missing values\n",
    "thershold=0.3\n",
    "missing_counts= df.isna().sum()\n",
    "total_row= len(df)\n",
    "drop_col= [i for i in df.columns if missing_counts[i]/total_row > thershold]\n",
    "df.drop(columns=drop_col,inplace=True)\n",
    "df.shape"
   ]
  },
  {
   "cell_type": "code",
   "execution_count": 89,
   "metadata": {},
   "outputs": [
    {
     "data": {
      "text/html": [
       "<div>\n",
       "<style scoped>\n",
       "    .dataframe tbody tr th:only-of-type {\n",
       "        vertical-align: middle;\n",
       "    }\n",
       "\n",
       "    .dataframe tbody tr th {\n",
       "        vertical-align: top;\n",
       "    }\n",
       "\n",
       "    .dataframe thead th {\n",
       "        text-align: right;\n",
       "    }\n",
       "</style>\n",
       "<table border=\"1\" class=\"dataframe\">\n",
       "  <thead>\n",
       "    <tr style=\"text-align: right;\">\n",
       "      <th></th>\n",
       "      <th>Event.Id</th>\n",
       "      <th>Investigation.Type</th>\n",
       "      <th>Accident.Number</th>\n",
       "      <th>Event.Date</th>\n",
       "      <th>Location</th>\n",
       "      <th>Country</th>\n",
       "      <th>Injury.Severity</th>\n",
       "      <th>Aircraft.damage</th>\n",
       "      <th>Registration.Number</th>\n",
       "      <th>Make</th>\n",
       "      <th>Model</th>\n",
       "      <th>Amateur.Built</th>\n",
       "      <th>Number.of.Engines</th>\n",
       "      <th>Engine.Type</th>\n",
       "      <th>Purpose.of.flight</th>\n",
       "      <th>Total.Fatal.Injuries</th>\n",
       "      <th>Total.Serious.Injuries</th>\n",
       "      <th>Total.Minor.Injuries</th>\n",
       "      <th>Total.Uninjured</th>\n",
       "      <th>Weather.Condition</th>\n",
       "      <th>Report.Status</th>\n",
       "    </tr>\n",
       "  </thead>\n",
       "  <tbody>\n",
       "    <tr>\n",
       "      <th>88884</th>\n",
       "      <td>20221227106491</td>\n",
       "      <td>Accident</td>\n",
       "      <td>ERA23LA093</td>\n",
       "      <td>2022-12-26</td>\n",
       "      <td>Annapolis, MD</td>\n",
       "      <td>United States</td>\n",
       "      <td>Minor</td>\n",
       "      <td>NaN</td>\n",
       "      <td>N1867H</td>\n",
       "      <td>PIPER</td>\n",
       "      <td>PA-28-151</td>\n",
       "      <td>No</td>\n",
       "      <td>NaN</td>\n",
       "      <td>NaN</td>\n",
       "      <td>Personal</td>\n",
       "      <td>0.0</td>\n",
       "      <td>1.0</td>\n",
       "      <td>0.0</td>\n",
       "      <td>0.0</td>\n",
       "      <td>NaN</td>\n",
       "      <td>NaN</td>\n",
       "    </tr>\n",
       "    <tr>\n",
       "      <th>88885</th>\n",
       "      <td>20221227106494</td>\n",
       "      <td>Accident</td>\n",
       "      <td>ERA23LA095</td>\n",
       "      <td>2022-12-26</td>\n",
       "      <td>Hampton, NH</td>\n",
       "      <td>United States</td>\n",
       "      <td>NaN</td>\n",
       "      <td>NaN</td>\n",
       "      <td>N2895Z</td>\n",
       "      <td>BELLANCA</td>\n",
       "      <td>7ECA</td>\n",
       "      <td>No</td>\n",
       "      <td>NaN</td>\n",
       "      <td>NaN</td>\n",
       "      <td>NaN</td>\n",
       "      <td>0.0</td>\n",
       "      <td>0.0</td>\n",
       "      <td>0.0</td>\n",
       "      <td>0.0</td>\n",
       "      <td>NaN</td>\n",
       "      <td>NaN</td>\n",
       "    </tr>\n",
       "    <tr>\n",
       "      <th>88886</th>\n",
       "      <td>20221227106497</td>\n",
       "      <td>Accident</td>\n",
       "      <td>WPR23LA075</td>\n",
       "      <td>2022-12-26</td>\n",
       "      <td>Payson, AZ</td>\n",
       "      <td>United States</td>\n",
       "      <td>Non-Fatal</td>\n",
       "      <td>Substantial</td>\n",
       "      <td>N749PJ</td>\n",
       "      <td>AMERICAN CHAMPION AIRCRAFT</td>\n",
       "      <td>8GCBC</td>\n",
       "      <td>No</td>\n",
       "      <td>1.0</td>\n",
       "      <td>NaN</td>\n",
       "      <td>Personal</td>\n",
       "      <td>0.0</td>\n",
       "      <td>0.0</td>\n",
       "      <td>0.0</td>\n",
       "      <td>1.0</td>\n",
       "      <td>VMC</td>\n",
       "      <td>NaN</td>\n",
       "    </tr>\n",
       "    <tr>\n",
       "      <th>88887</th>\n",
       "      <td>20221227106498</td>\n",
       "      <td>Accident</td>\n",
       "      <td>WPR23LA076</td>\n",
       "      <td>2022-12-26</td>\n",
       "      <td>Morgan, UT</td>\n",
       "      <td>United States</td>\n",
       "      <td>NaN</td>\n",
       "      <td>NaN</td>\n",
       "      <td>N210CU</td>\n",
       "      <td>CESSNA</td>\n",
       "      <td>210N</td>\n",
       "      <td>No</td>\n",
       "      <td>NaN</td>\n",
       "      <td>NaN</td>\n",
       "      <td>Personal</td>\n",
       "      <td>0.0</td>\n",
       "      <td>0.0</td>\n",
       "      <td>0.0</td>\n",
       "      <td>0.0</td>\n",
       "      <td>NaN</td>\n",
       "      <td>NaN</td>\n",
       "    </tr>\n",
       "    <tr>\n",
       "      <th>88888</th>\n",
       "      <td>20221230106513</td>\n",
       "      <td>Accident</td>\n",
       "      <td>ERA23LA097</td>\n",
       "      <td>2022-12-29</td>\n",
       "      <td>Athens, GA</td>\n",
       "      <td>United States</td>\n",
       "      <td>Minor</td>\n",
       "      <td>NaN</td>\n",
       "      <td>N9026P</td>\n",
       "      <td>PIPER</td>\n",
       "      <td>PA-24-260</td>\n",
       "      <td>No</td>\n",
       "      <td>NaN</td>\n",
       "      <td>NaN</td>\n",
       "      <td>Personal</td>\n",
       "      <td>0.0</td>\n",
       "      <td>1.0</td>\n",
       "      <td>0.0</td>\n",
       "      <td>1.0</td>\n",
       "      <td>NaN</td>\n",
       "      <td>NaN</td>\n",
       "    </tr>\n",
       "  </tbody>\n",
       "</table>\n",
       "</div>"
      ],
      "text/plain": [
       "             Event.Id Investigation.Type Accident.Number  Event.Date  \\\n",
       "88884  20221227106491           Accident      ERA23LA093  2022-12-26   \n",
       "88885  20221227106494           Accident      ERA23LA095  2022-12-26   \n",
       "88886  20221227106497           Accident      WPR23LA075  2022-12-26   \n",
       "88887  20221227106498           Accident      WPR23LA076  2022-12-26   \n",
       "88888  20221230106513           Accident      ERA23LA097  2022-12-29   \n",
       "\n",
       "            Location        Country Injury.Severity Aircraft.damage  \\\n",
       "88884  Annapolis, MD  United States           Minor             NaN   \n",
       "88885    Hampton, NH  United States             NaN             NaN   \n",
       "88886     Payson, AZ  United States       Non-Fatal     Substantial   \n",
       "88887     Morgan, UT  United States             NaN             NaN   \n",
       "88888     Athens, GA  United States           Minor             NaN   \n",
       "\n",
       "      Registration.Number                        Make      Model  \\\n",
       "88884              N1867H                       PIPER  PA-28-151   \n",
       "88885              N2895Z                    BELLANCA       7ECA   \n",
       "88886              N749PJ  AMERICAN CHAMPION AIRCRAFT      8GCBC   \n",
       "88887              N210CU                      CESSNA       210N   \n",
       "88888              N9026P                       PIPER  PA-24-260   \n",
       "\n",
       "      Amateur.Built  Number.of.Engines Engine.Type Purpose.of.flight  \\\n",
       "88884            No                NaN         NaN          Personal   \n",
       "88885            No                NaN         NaN               NaN   \n",
       "88886            No                1.0         NaN          Personal   \n",
       "88887            No                NaN         NaN          Personal   \n",
       "88888            No                NaN         NaN          Personal   \n",
       "\n",
       "       Total.Fatal.Injuries  Total.Serious.Injuries  Total.Minor.Injuries  \\\n",
       "88884                   0.0                     1.0                   0.0   \n",
       "88885                   0.0                     0.0                   0.0   \n",
       "88886                   0.0                     0.0                   0.0   \n",
       "88887                   0.0                     0.0                   0.0   \n",
       "88888                   0.0                     1.0                   0.0   \n",
       "\n",
       "       Total.Uninjured Weather.Condition Report.Status  \n",
       "88884              0.0               NaN           NaN  \n",
       "88885              0.0               NaN           NaN  \n",
       "88886              1.0               VMC           NaN  \n",
       "88887              0.0               NaN           NaN  \n",
       "88888              1.0               NaN           NaN  "
      ]
     },
     "execution_count": 89,
     "metadata": {},
     "output_type": "execute_result"
    }
   ],
   "source": [
    "# Let's first create a copy of the original dataframe and then drop the 'Publication.Date' column as per your request.\n",
    "\n",
    "# Creating a copy of the dataframe\n",
    "df2 = df.copy()\n",
    "\n",
    "# Dropping the 'Publication.Date' column from the original dataframe\n",
    "df.drop('Publication.Date', axis=1, inplace=True)\n",
    "\n",
    "# Display the first few rows of the updated dataframe to confirm the change\n",
    "df.tail()\n"
   ]
  },
  {
   "cell_type": "code",
   "execution_count": 90,
   "metadata": {},
   "outputs": [
    {
     "data": {
      "text/html": [
       "<div>\n",
       "<style scoped>\n",
       "    .dataframe tbody tr th:only-of-type {\n",
       "        vertical-align: middle;\n",
       "    }\n",
       "\n",
       "    .dataframe tbody tr th {\n",
       "        vertical-align: top;\n",
       "    }\n",
       "\n",
       "    .dataframe thead th {\n",
       "        text-align: right;\n",
       "    }\n",
       "</style>\n",
       "<table border=\"1\" class=\"dataframe\">\n",
       "  <thead>\n",
       "    <tr style=\"text-align: right;\">\n",
       "      <th></th>\n",
       "      <th>Column</th>\n",
       "      <th>unique_val</th>\n",
       "      <th>missing_values</th>\n",
       "    </tr>\n",
       "  </thead>\n",
       "  <tbody>\n",
       "    <tr>\n",
       "      <th>0</th>\n",
       "      <td>Event.Id</td>\n",
       "      <td>87951</td>\n",
       "      <td>0</td>\n",
       "    </tr>\n",
       "    <tr>\n",
       "      <th>1</th>\n",
       "      <td>Investigation.Type</td>\n",
       "      <td>2</td>\n",
       "      <td>0</td>\n",
       "    </tr>\n",
       "    <tr>\n",
       "      <th>2</th>\n",
       "      <td>Accident.Number</td>\n",
       "      <td>88863</td>\n",
       "      <td>0</td>\n",
       "    </tr>\n",
       "    <tr>\n",
       "      <th>3</th>\n",
       "      <td>Event.Date</td>\n",
       "      <td>14782</td>\n",
       "      <td>0</td>\n",
       "    </tr>\n",
       "    <tr>\n",
       "      <th>4</th>\n",
       "      <td>Location</td>\n",
       "      <td>27759</td>\n",
       "      <td>52</td>\n",
       "    </tr>\n",
       "    <tr>\n",
       "      <th>5</th>\n",
       "      <td>Country</td>\n",
       "      <td>220</td>\n",
       "      <td>226</td>\n",
       "    </tr>\n",
       "    <tr>\n",
       "      <th>6</th>\n",
       "      <td>Injury.Severity</td>\n",
       "      <td>110</td>\n",
       "      <td>1000</td>\n",
       "    </tr>\n",
       "    <tr>\n",
       "      <th>7</th>\n",
       "      <td>Aircraft.damage</td>\n",
       "      <td>5</td>\n",
       "      <td>3194</td>\n",
       "    </tr>\n",
       "    <tr>\n",
       "      <th>8</th>\n",
       "      <td>Registration.Number</td>\n",
       "      <td>79106</td>\n",
       "      <td>1317</td>\n",
       "    </tr>\n",
       "    <tr>\n",
       "      <th>9</th>\n",
       "      <td>Make</td>\n",
       "      <td>8238</td>\n",
       "      <td>63</td>\n",
       "    </tr>\n",
       "    <tr>\n",
       "      <th>10</th>\n",
       "      <td>Model</td>\n",
       "      <td>12319</td>\n",
       "      <td>92</td>\n",
       "    </tr>\n",
       "    <tr>\n",
       "      <th>11</th>\n",
       "      <td>Amateur.Built</td>\n",
       "      <td>3</td>\n",
       "      <td>102</td>\n",
       "    </tr>\n",
       "    <tr>\n",
       "      <th>12</th>\n",
       "      <td>Number.of.Engines</td>\n",
       "      <td>8</td>\n",
       "      <td>6084</td>\n",
       "    </tr>\n",
       "    <tr>\n",
       "      <th>13</th>\n",
       "      <td>Engine.Type</td>\n",
       "      <td>14</td>\n",
       "      <td>7077</td>\n",
       "    </tr>\n",
       "    <tr>\n",
       "      <th>14</th>\n",
       "      <td>Purpose.of.flight</td>\n",
       "      <td>27</td>\n",
       "      <td>6192</td>\n",
       "    </tr>\n",
       "    <tr>\n",
       "      <th>15</th>\n",
       "      <td>Total.Fatal.Injuries</td>\n",
       "      <td>126</td>\n",
       "      <td>11401</td>\n",
       "    </tr>\n",
       "    <tr>\n",
       "      <th>16</th>\n",
       "      <td>Total.Serious.Injuries</td>\n",
       "      <td>51</td>\n",
       "      <td>12510</td>\n",
       "    </tr>\n",
       "    <tr>\n",
       "      <th>17</th>\n",
       "      <td>Total.Minor.Injuries</td>\n",
       "      <td>58</td>\n",
       "      <td>11933</td>\n",
       "    </tr>\n",
       "    <tr>\n",
       "      <th>18</th>\n",
       "      <td>Total.Uninjured</td>\n",
       "      <td>380</td>\n",
       "      <td>5912</td>\n",
       "    </tr>\n",
       "    <tr>\n",
       "      <th>19</th>\n",
       "      <td>Weather.Condition</td>\n",
       "      <td>5</td>\n",
       "      <td>4492</td>\n",
       "    </tr>\n",
       "    <tr>\n",
       "      <th>20</th>\n",
       "      <td>Report.Status</td>\n",
       "      <td>17076</td>\n",
       "      <td>6381</td>\n",
       "    </tr>\n",
       "  </tbody>\n",
       "</table>\n",
       "</div>"
      ],
      "text/plain": [
       "                    Column  unique_val  missing_values\n",
       "0                 Event.Id       87951               0\n",
       "1       Investigation.Type           2               0\n",
       "2          Accident.Number       88863               0\n",
       "3               Event.Date       14782               0\n",
       "4                 Location       27759              52\n",
       "5                  Country         220             226\n",
       "6          Injury.Severity         110            1000\n",
       "7          Aircraft.damage           5            3194\n",
       "8      Registration.Number       79106            1317\n",
       "9                     Make        8238              63\n",
       "10                   Model       12319              92\n",
       "11           Amateur.Built           3             102\n",
       "12       Number.of.Engines           8            6084\n",
       "13             Engine.Type          14            7077\n",
       "14       Purpose.of.flight          27            6192\n",
       "15    Total.Fatal.Injuries         126           11401\n",
       "16  Total.Serious.Injuries          51           12510\n",
       "17    Total.Minor.Injuries          58           11933\n",
       "18         Total.Uninjured         380            5912\n",
       "19       Weather.Condition           5            4492\n",
       "20           Report.Status       17076            6381"
      ]
     },
     "execution_count": 90,
     "metadata": {},
     "output_type": "execute_result"
    }
   ],
   "source": [
    "# Initialize dictionary to store the unique counts\n",
    "d = {}\n",
    "for i in df.columns:\n",
    "    d[i] = len(df[i].unique())\n",
    "\n",
    "# Convert the dictionary to a DataFrame for better visualization\n",
    "unique_values = pd.DataFrame(list(d.items()), columns=['Column', 'unique_val'])\n",
    "\n",
    "# Add a column for missing values in each column\n",
    "unique_values[\"missing_values\"] = df.isna().sum().values\n",
    "\n",
    "# Display the DataFrame showing unique values and missing values for each column\n",
    "unique_values"
   ]
  },
  {
   "cell_type": "code",
   "execution_count": 91,
   "metadata": {},
   "outputs": [
    {
     "data": {
      "text/plain": [
       "(63325, 21)"
      ]
     },
     "execution_count": 91,
     "metadata": {},
     "output_type": "execute_result"
    }
   ],
   "source": [
    "# dropping rows having more missing values\n",
    "subset_col=list(unique_values[unique_values['missing_values']>1000]['Column'])\n",
    "df.dropna(subset=subset_col, inplace=True)\n",
    "df.shape"
   ]
  },
  {
   "cell_type": "code",
   "execution_count": 92,
   "metadata": {},
   "outputs": [
    {
     "data": {
      "text/plain": [
       "Event.Id                    0\n",
       "Investigation.Type          0\n",
       "Accident.Number             0\n",
       "Event.Date                  0\n",
       "Location                   15\n",
       "Country                   198\n",
       "Injury.Severity            11\n",
       "Aircraft.damage             0\n",
       "Registration.Number         0\n",
       "Make                        8\n",
       "Model                      23\n",
       "Amateur.Built               0\n",
       "Number.of.Engines           0\n",
       "Engine.Type                 0\n",
       "Purpose.of.flight           0\n",
       "Total.Fatal.Injuries        0\n",
       "Total.Serious.Injuries      0\n",
       "Total.Minor.Injuries        0\n",
       "Total.Uninjured             0\n",
       "Weather.Condition           0\n",
       "Report.Status               0\n",
       "dtype: int64"
      ]
     },
     "execution_count": 92,
     "metadata": {},
     "output_type": "execute_result"
    }
   ],
   "source": [
    "# Counter-checking sum null values\n",
    "df.isna().sum()"
   ]
  },
  {
   "cell_type": "code",
   "execution_count": 93,
   "metadata": {},
   "outputs": [
    {
     "data": {
      "text/plain": [
       "Event.Id                  0\n",
       "Investigation.Type        0\n",
       "Accident.Number           0\n",
       "Event.Date                0\n",
       "Location                  0\n",
       "Country                   0\n",
       "Injury.Severity           0\n",
       "Aircraft.damage           0\n",
       "Registration.Number       0\n",
       "Make                      0\n",
       "Model                     0\n",
       "Amateur.Built             0\n",
       "Number.of.Engines         0\n",
       "Engine.Type               0\n",
       "Purpose.of.flight         0\n",
       "Total.Fatal.Injuries      0\n",
       "Total.Serious.Injuries    0\n",
       "Total.Minor.Injuries      0\n",
       "Total.Uninjured           0\n",
       "Weather.Condition         0\n",
       "Report.Status             0\n",
       "dtype: int64"
      ]
     },
     "execution_count": 93,
     "metadata": {},
     "output_type": "execute_result"
    }
   ],
   "source": [
    "# Handeling Null values\n",
    "l2=['Location','Country','Injury.Severity','Model','Make']\n",
    "for i in l2:\n",
    "        df[i].fillna(df[i].mode()[0],inplace=True)\n",
    "df.isna().sum()"
   ]
  },
  {
   "cell_type": "code",
   "execution_count": 94,
   "metadata": {},
   "outputs": [
    {
     "data": {
      "text/html": [
       "<div>\n",
       "<style scoped>\n",
       "    .dataframe tbody tr th:only-of-type {\n",
       "        vertical-align: middle;\n",
       "    }\n",
       "\n",
       "    .dataframe tbody tr th {\n",
       "        vertical-align: top;\n",
       "    }\n",
       "\n",
       "    .dataframe thead th {\n",
       "        text-align: right;\n",
       "    }\n",
       "</style>\n",
       "<table border=\"1\" class=\"dataframe\">\n",
       "  <thead>\n",
       "    <tr style=\"text-align: right;\">\n",
       "      <th></th>\n",
       "      <th>Event.Id</th>\n",
       "      <th>Investigation.Type</th>\n",
       "      <th>Accident.Number</th>\n",
       "      <th>Event.Date</th>\n",
       "      <th>Location</th>\n",
       "      <th>Country</th>\n",
       "      <th>Injury.Severity</th>\n",
       "      <th>Aircraft.damage</th>\n",
       "      <th>Registration.Number</th>\n",
       "      <th>Make</th>\n",
       "      <th>Model</th>\n",
       "      <th>Amateur.Built</th>\n",
       "      <th>Number.of.Engines</th>\n",
       "      <th>Engine.Type</th>\n",
       "      <th>Purpose.of.flight</th>\n",
       "      <th>Total.Fatal.Injuries</th>\n",
       "      <th>Total.Serious.Injuries</th>\n",
       "      <th>Total.Minor.Injuries</th>\n",
       "      <th>Total.Uninjured</th>\n",
       "      <th>Weather.Condition</th>\n",
       "      <th>Report.Status</th>\n",
       "    </tr>\n",
       "  </thead>\n",
       "  <tbody>\n",
       "    <tr>\n",
       "      <th>88639</th>\n",
       "      <td>20221011106092</td>\n",
       "      <td>Accident</td>\n",
       "      <td>CEN23LA008</td>\n",
       "      <td>2022-10-06</td>\n",
       "      <td>Iola, TX</td>\n",
       "      <td>United States</td>\n",
       "      <td>Non-Fatal</td>\n",
       "      <td>Substantial</td>\n",
       "      <td>N18158</td>\n",
       "      <td>CESSNA</td>\n",
       "      <td>150</td>\n",
       "      <td>No</td>\n",
       "      <td>1.0</td>\n",
       "      <td>Reciprocating</td>\n",
       "      <td>Personal</td>\n",
       "      <td>0.0</td>\n",
       "      <td>0.0</td>\n",
       "      <td>0.0</td>\n",
       "      <td>1.0</td>\n",
       "      <td>VMC</td>\n",
       "      <td>The pilots failure to maintain control of the...</td>\n",
       "    </tr>\n",
       "    <tr>\n",
       "      <th>88647</th>\n",
       "      <td>20221011106098</td>\n",
       "      <td>Accident</td>\n",
       "      <td>ERA23LA014</td>\n",
       "      <td>2022-10-08</td>\n",
       "      <td>Dacula, GA</td>\n",
       "      <td>United States</td>\n",
       "      <td>Non-Fatal</td>\n",
       "      <td>Substantial</td>\n",
       "      <td>N2047Q</td>\n",
       "      <td>CESSNA</td>\n",
       "      <td>177RG</td>\n",
       "      <td>No</td>\n",
       "      <td>1.0</td>\n",
       "      <td>Reciprocating</td>\n",
       "      <td>Personal</td>\n",
       "      <td>0.0</td>\n",
       "      <td>0.0</td>\n",
       "      <td>0.0</td>\n",
       "      <td>2.0</td>\n",
       "      <td>VMC</td>\n",
       "      <td>An in-flight collision with a bird while on ap...</td>\n",
       "    </tr>\n",
       "    <tr>\n",
       "      <th>88661</th>\n",
       "      <td>20221018106153</td>\n",
       "      <td>Accident</td>\n",
       "      <td>CEN23LA015</td>\n",
       "      <td>2022-10-13</td>\n",
       "      <td>Ardmore, OK</td>\n",
       "      <td>United States</td>\n",
       "      <td>Non-Fatal</td>\n",
       "      <td>Substantial</td>\n",
       "      <td>N2889W</td>\n",
       "      <td>BEECH</td>\n",
       "      <td>B-60</td>\n",
       "      <td>No</td>\n",
       "      <td>2.0</td>\n",
       "      <td>Reciprocating</td>\n",
       "      <td>Personal</td>\n",
       "      <td>0.0</td>\n",
       "      <td>0.0</td>\n",
       "      <td>0.0</td>\n",
       "      <td>1.0</td>\n",
       "      <td>VMC</td>\n",
       "      <td>The pilot did not ensure adequate clearance fr...</td>\n",
       "    </tr>\n",
       "    <tr>\n",
       "      <th>88735</th>\n",
       "      <td>20221031106231</td>\n",
       "      <td>Accident</td>\n",
       "      <td>CEN23LA023</td>\n",
       "      <td>2022-10-29</td>\n",
       "      <td>Houston, TX</td>\n",
       "      <td>United States</td>\n",
       "      <td>Minor</td>\n",
       "      <td>Substantial</td>\n",
       "      <td>N778MS</td>\n",
       "      <td>STEPHEN J HOFFMAN</td>\n",
       "      <td>MS-500</td>\n",
       "      <td>Yes</td>\n",
       "      <td>1.0</td>\n",
       "      <td>Reciprocating</td>\n",
       "      <td>ASHO</td>\n",
       "      <td>0.0</td>\n",
       "      <td>1.0</td>\n",
       "      <td>0.0</td>\n",
       "      <td>0.0</td>\n",
       "      <td>VMC</td>\n",
       "      <td>The pilots failure to secure the magneto swit...</td>\n",
       "    </tr>\n",
       "    <tr>\n",
       "      <th>88767</th>\n",
       "      <td>20221109106272</td>\n",
       "      <td>Accident</td>\n",
       "      <td>CEN23LA033</td>\n",
       "      <td>2022-11-09</td>\n",
       "      <td>Bridgeport, TX</td>\n",
       "      <td>United States</td>\n",
       "      <td>Non-Fatal</td>\n",
       "      <td>Substantial</td>\n",
       "      <td>N1855K</td>\n",
       "      <td>LUSCOMBE</td>\n",
       "      <td>8E</td>\n",
       "      <td>No</td>\n",
       "      <td>1.0</td>\n",
       "      <td>Reciprocating</td>\n",
       "      <td>Personal</td>\n",
       "      <td>0.0</td>\n",
       "      <td>0.0</td>\n",
       "      <td>0.0</td>\n",
       "      <td>2.0</td>\n",
       "      <td>VMC</td>\n",
       "      <td>The pilots loss of control due to a wind gust...</td>\n",
       "    </tr>\n",
       "  </tbody>\n",
       "</table>\n",
       "</div>"
      ],
      "text/plain": [
       "             Event.Id Investigation.Type Accident.Number  Event.Date  \\\n",
       "88639  20221011106092           Accident      CEN23LA008  2022-10-06   \n",
       "88647  20221011106098           Accident      ERA23LA014  2022-10-08   \n",
       "88661  20221018106153           Accident      CEN23LA015  2022-10-13   \n",
       "88735  20221031106231           Accident      CEN23LA023  2022-10-29   \n",
       "88767  20221109106272           Accident      CEN23LA033  2022-11-09   \n",
       "\n",
       "             Location        Country Injury.Severity Aircraft.damage  \\\n",
       "88639        Iola, TX  United States       Non-Fatal     Substantial   \n",
       "88647      Dacula, GA  United States       Non-Fatal     Substantial   \n",
       "88661     Ardmore, OK  United States       Non-Fatal     Substantial   \n",
       "88735     Houston, TX  United States           Minor     Substantial   \n",
       "88767  Bridgeport, TX  United States       Non-Fatal     Substantial   \n",
       "\n",
       "      Registration.Number               Make   Model Amateur.Built  \\\n",
       "88639              N18158             CESSNA     150            No   \n",
       "88647              N2047Q             CESSNA   177RG            No   \n",
       "88661              N2889W              BEECH    B-60            No   \n",
       "88735              N778MS  STEPHEN J HOFFMAN  MS-500           Yes   \n",
       "88767              N1855K           LUSCOMBE      8E            No   \n",
       "\n",
       "       Number.of.Engines    Engine.Type Purpose.of.flight  \\\n",
       "88639                1.0  Reciprocating          Personal   \n",
       "88647                1.0  Reciprocating          Personal   \n",
       "88661                2.0  Reciprocating          Personal   \n",
       "88735                1.0  Reciprocating              ASHO   \n",
       "88767                1.0  Reciprocating          Personal   \n",
       "\n",
       "       Total.Fatal.Injuries  Total.Serious.Injuries  Total.Minor.Injuries  \\\n",
       "88639                   0.0                     0.0                   0.0   \n",
       "88647                   0.0                     0.0                   0.0   \n",
       "88661                   0.0                     0.0                   0.0   \n",
       "88735                   0.0                     1.0                   0.0   \n",
       "88767                   0.0                     0.0                   0.0   \n",
       "\n",
       "       Total.Uninjured Weather.Condition  \\\n",
       "88639              1.0               VMC   \n",
       "88647              2.0               VMC   \n",
       "88661              1.0               VMC   \n",
       "88735              0.0               VMC   \n",
       "88767              2.0               VMC   \n",
       "\n",
       "                                           Report.Status  \n",
       "88639  The pilots failure to maintain control of the...  \n",
       "88647  An in-flight collision with a bird while on ap...  \n",
       "88661  The pilot did not ensure adequate clearance fr...  \n",
       "88735  The pilots failure to secure the magneto swit...  \n",
       "88767  The pilots loss of control due to a wind gust...  "
      ]
     },
     "execution_count": 94,
     "metadata": {},
     "output_type": "execute_result"
    }
   ],
   "source": [
    "# To display all columns of the dataframe\n",
    "pd.set_option('display.max_columns', None)\n",
    "\n",
    "# Display the first few rows of the dataframe\n",
    "df.tail()"
   ]
  },
  {
   "cell_type": "code",
   "execution_count": 95,
   "metadata": {},
   "outputs": [
    {
     "data": {
      "text/html": [
       "<div>\n",
       "<style scoped>\n",
       "    .dataframe tbody tr th:only-of-type {\n",
       "        vertical-align: middle;\n",
       "    }\n",
       "\n",
       "    .dataframe tbody tr th {\n",
       "        vertical-align: top;\n",
       "    }\n",
       "\n",
       "    .dataframe thead th {\n",
       "        text-align: right;\n",
       "    }\n",
       "</style>\n",
       "<table border=\"1\" class=\"dataframe\">\n",
       "  <thead>\n",
       "    <tr style=\"text-align: right;\">\n",
       "      <th></th>\n",
       "      <th>Event.Id</th>\n",
       "      <th>Investigation.Type</th>\n",
       "      <th>Accident.Number</th>\n",
       "      <th>Event.Date</th>\n",
       "      <th>Location</th>\n",
       "      <th>Country</th>\n",
       "      <th>Injury.Severity</th>\n",
       "      <th>Aircraft.damage</th>\n",
       "      <th>Registration.Number</th>\n",
       "      <th>Make</th>\n",
       "      <th>Model</th>\n",
       "      <th>Amateur.Built</th>\n",
       "      <th>Engine.Type</th>\n",
       "      <th>Purpose.of.flight</th>\n",
       "      <th>Weather.Condition</th>\n",
       "      <th>Report.Status</th>\n",
       "    </tr>\n",
       "  </thead>\n",
       "  <tbody>\n",
       "    <tr>\n",
       "      <th>88639</th>\n",
       "      <td>20221011106092</td>\n",
       "      <td>Accident</td>\n",
       "      <td>CEN23LA008</td>\n",
       "      <td>2022-10-06</td>\n",
       "      <td>Iola, TX</td>\n",
       "      <td>United States</td>\n",
       "      <td>Non-Fatal</td>\n",
       "      <td>Substantial</td>\n",
       "      <td>N18158</td>\n",
       "      <td>CESSNA</td>\n",
       "      <td>150</td>\n",
       "      <td>No</td>\n",
       "      <td>Reciprocating</td>\n",
       "      <td>Personal</td>\n",
       "      <td>VMC</td>\n",
       "      <td>The pilots failure to maintain control of the...</td>\n",
       "    </tr>\n",
       "    <tr>\n",
       "      <th>88647</th>\n",
       "      <td>20221011106098</td>\n",
       "      <td>Accident</td>\n",
       "      <td>ERA23LA014</td>\n",
       "      <td>2022-10-08</td>\n",
       "      <td>Dacula, GA</td>\n",
       "      <td>United States</td>\n",
       "      <td>Non-Fatal</td>\n",
       "      <td>Substantial</td>\n",
       "      <td>N2047Q</td>\n",
       "      <td>CESSNA</td>\n",
       "      <td>177RG</td>\n",
       "      <td>No</td>\n",
       "      <td>Reciprocating</td>\n",
       "      <td>Personal</td>\n",
       "      <td>VMC</td>\n",
       "      <td>An in-flight collision with a bird while on ap...</td>\n",
       "    </tr>\n",
       "    <tr>\n",
       "      <th>88661</th>\n",
       "      <td>20221018106153</td>\n",
       "      <td>Accident</td>\n",
       "      <td>CEN23LA015</td>\n",
       "      <td>2022-10-13</td>\n",
       "      <td>Ardmore, OK</td>\n",
       "      <td>United States</td>\n",
       "      <td>Non-Fatal</td>\n",
       "      <td>Substantial</td>\n",
       "      <td>N2889W</td>\n",
       "      <td>BEECH</td>\n",
       "      <td>B-60</td>\n",
       "      <td>No</td>\n",
       "      <td>Reciprocating</td>\n",
       "      <td>Personal</td>\n",
       "      <td>VMC</td>\n",
       "      <td>The pilot did not ensure adequate clearance fr...</td>\n",
       "    </tr>\n",
       "    <tr>\n",
       "      <th>88735</th>\n",
       "      <td>20221031106231</td>\n",
       "      <td>Accident</td>\n",
       "      <td>CEN23LA023</td>\n",
       "      <td>2022-10-29</td>\n",
       "      <td>Houston, TX</td>\n",
       "      <td>United States</td>\n",
       "      <td>Minor</td>\n",
       "      <td>Substantial</td>\n",
       "      <td>N778MS</td>\n",
       "      <td>STEPHEN J HOFFMAN</td>\n",
       "      <td>MS-500</td>\n",
       "      <td>Yes</td>\n",
       "      <td>Reciprocating</td>\n",
       "      <td>ASHO</td>\n",
       "      <td>VMC</td>\n",
       "      <td>The pilots failure to secure the magneto swit...</td>\n",
       "    </tr>\n",
       "    <tr>\n",
       "      <th>88767</th>\n",
       "      <td>20221109106272</td>\n",
       "      <td>Accident</td>\n",
       "      <td>CEN23LA033</td>\n",
       "      <td>2022-11-09</td>\n",
       "      <td>Bridgeport, TX</td>\n",
       "      <td>United States</td>\n",
       "      <td>Non-Fatal</td>\n",
       "      <td>Substantial</td>\n",
       "      <td>N1855K</td>\n",
       "      <td>LUSCOMBE</td>\n",
       "      <td>8E</td>\n",
       "      <td>No</td>\n",
       "      <td>Reciprocating</td>\n",
       "      <td>Personal</td>\n",
       "      <td>VMC</td>\n",
       "      <td>The pilots loss of control due to a wind gust...</td>\n",
       "    </tr>\n",
       "  </tbody>\n",
       "</table>\n",
       "</div>"
      ],
      "text/plain": [
       "             Event.Id Investigation.Type Accident.Number  Event.Date  \\\n",
       "88639  20221011106092           Accident      CEN23LA008  2022-10-06   \n",
       "88647  20221011106098           Accident      ERA23LA014  2022-10-08   \n",
       "88661  20221018106153           Accident      CEN23LA015  2022-10-13   \n",
       "88735  20221031106231           Accident      CEN23LA023  2022-10-29   \n",
       "88767  20221109106272           Accident      CEN23LA033  2022-11-09   \n",
       "\n",
       "             Location        Country Injury.Severity Aircraft.damage  \\\n",
       "88639        Iola, TX  United States       Non-Fatal     Substantial   \n",
       "88647      Dacula, GA  United States       Non-Fatal     Substantial   \n",
       "88661     Ardmore, OK  United States       Non-Fatal     Substantial   \n",
       "88735     Houston, TX  United States           Minor     Substantial   \n",
       "88767  Bridgeport, TX  United States       Non-Fatal     Substantial   \n",
       "\n",
       "      Registration.Number               Make   Model Amateur.Built  \\\n",
       "88639              N18158             CESSNA     150            No   \n",
       "88647              N2047Q             CESSNA   177RG            No   \n",
       "88661              N2889W              BEECH    B-60            No   \n",
       "88735              N778MS  STEPHEN J HOFFMAN  MS-500           Yes   \n",
       "88767              N1855K           LUSCOMBE      8E            No   \n",
       "\n",
       "         Engine.Type Purpose.of.flight Weather.Condition  \\\n",
       "88639  Reciprocating          Personal               VMC   \n",
       "88647  Reciprocating          Personal               VMC   \n",
       "88661  Reciprocating          Personal               VMC   \n",
       "88735  Reciprocating              ASHO               VMC   \n",
       "88767  Reciprocating          Personal               VMC   \n",
       "\n",
       "                                           Report.Status  \n",
       "88639  The pilots failure to maintain control of the...  \n",
       "88647  An in-flight collision with a bird while on ap...  \n",
       "88661  The pilot did not ensure adequate clearance fr...  \n",
       "88735  The pilots failure to secure the magneto swit...  \n",
       "88767  The pilots loss of control due to a wind gust...  "
      ]
     },
     "execution_count": 95,
     "metadata": {},
     "output_type": "execute_result"
    }
   ],
   "source": [
    "# Identify object (string) columns and apply the operations as requested\n",
    "obj_col = df.select_dtypes(include='object').columns\n",
    "\n",
    "# Strip leading/trailing whitespace from string columns\n",
    "for col in obj_col:\n",
    "    df[col] = df[col].str.strip()\n",
    "\n",
    "# Display the last few rows of the object columns after modification\n",
    "df[obj_col].tail()"
   ]
  },
  {
   "cell_type": "code",
   "execution_count": 96,
   "metadata": {},
   "outputs": [
    {
     "data": {
      "text/plain": [
       "(5655, 5653)"
      ]
     },
     "execution_count": 96,
     "metadata": {},
     "output_type": "execute_result"
    }
   ],
   "source": [
    "# Applying transformations to the 'Make' column and calculating unique values before and after\n",
    "df['Make'] = df['Make'].str.title()  # Convert the 'Make' column to title case\n",
    "df['Make'].replace('[!@#$%^&*()_+{}|:\"<>,-./?`~=;0123456789]', '', regex=True, inplace=True)  # Remove special characters and numbers\n",
    "\n",
    "# Count the unique values in the 'Make' column after cleaning\n",
    "unique_makes_before_strip = len(df['Make'].unique())\n",
    "\n",
    "# Strip any leading/trailing whitespace again after the replacements\n",
    "df['Make'] = df['Make'].str.strip()\n",
    "\n",
    "# Count the unique values in the 'Make' column after stripping\n",
    "unique_makes_after_strip = len(df['Make'].unique())\n",
    "\n",
    "unique_makes_before_strip, unique_makes_after_strip\n"
   ]
  },
  {
   "cell_type": "code",
   "execution_count": 97,
   "metadata": {},
   "outputs": [
    {
     "data": {
      "text/plain": [
       "Index(['Event.Id', 'Investigation.Type', 'Accident.Number', 'Event.Date',\n",
       "       'Location', 'Country', 'Injury.Severity', 'Aircraft.damage',\n",
       "       'Registration.Number', 'Make', 'Model', 'Amateur.Built',\n",
       "       'Number.of.Engines', 'Engine.Type', 'Purpose.of.flight',\n",
       "       'Total.Fatal.Injuries', 'Total.Serious.Injuries',\n",
       "       'Total.Minor.Injuries', 'Total.Uninjured', 'Weather.Condition',\n",
       "       'Report.Status'],\n",
       "      dtype='object')"
      ]
     },
     "execution_count": 97,
     "metadata": {},
     "output_type": "execute_result"
    }
   ],
   "source": [
    "# updated columns here\n",
    "df.columns"
   ]
  },
  {
   "cell_type": "code",
   "execution_count": 98,
   "metadata": {},
   "outputs": [
    {
     "data": {
      "text/plain": [
       "0     Stinson\n",
       "1       Piper\n",
       "3    Rockwell\n",
       "6      Cessna\n",
       "7      Cessna\n",
       "Name: Make, dtype: object"
      ]
     },
     "execution_count": 98,
     "metadata": {},
     "output_type": "execute_result"
    }
   ],
   "source": [
    "# Modifying the function to handle non-string values by converting them to empty strings\n",
    "def str_clean(row):\n",
    "    if isinstance(row, str):  \n",
    "        parts = row.split(\" \", 2) \n",
    "        if len(parts) > 1:\n",
    "            return parts[0]  \n",
    "        else:\n",
    "            return row  \n",
    "    return \"\"  \n",
    "\n",
    "# Applying the modified 'str_clean' function to the 'Make' column\n",
    "df['Make'] = df[\"Make\"].apply(str_clean)\n",
    "\n",
    "# Display the first few rows of the modified 'Make' column to verify the changes\n",
    "df['Make'].head()\n"
   ]
  },
  {
   "cell_type": "code",
   "execution_count": 99,
   "metadata": {},
   "outputs": [
    {
     "data": {
      "text/plain": [
       "0     108\n",
       "1    PA24\n",
       "3     112\n",
       "6     180\n",
       "7     140\n",
       "Name: Model, dtype: object"
      ]
     },
     "execution_count": 99,
     "metadata": {},
     "output_type": "execute_result"
    }
   ],
   "source": [
    "# Handling non-string values before applying transformations on the 'Model' column\n",
    "df['Model'] = df['Model'].apply(lambda x: x.upper() if isinstance(x, str) else '')  # Convert strings to uppercase\n",
    "df['Model'] = df['Model'].str.replace('-', ' ')  \n",
    "\n",
    "# Applying the 'str_clean' function to clean the 'Model' column\n",
    "df['Model'] = df['Model'].apply(str_clean)\n",
    "\n",
    "# Display the first few rows of the modified 'Model' column to verify the changes\n",
    "df['Model'].head()\n"
   ]
  },
  {
   "cell_type": "code",
   "execution_count": 100,
   "metadata": {},
   "outputs": [
    {
     "data": {
      "text/html": [
       "<div>\n",
       "<style scoped>\n",
       "    .dataframe tbody tr th:only-of-type {\n",
       "        vertical-align: middle;\n",
       "    }\n",
       "\n",
       "    .dataframe tbody tr th {\n",
       "        vertical-align: top;\n",
       "    }\n",
       "\n",
       "    .dataframe thead th {\n",
       "        text-align: right;\n",
       "    }\n",
       "</style>\n",
       "<table border=\"1\" class=\"dataframe\">\n",
       "  <thead>\n",
       "    <tr style=\"text-align: right;\">\n",
       "      <th></th>\n",
       "      <th>Event.Id</th>\n",
       "      <th>Investigation.Type</th>\n",
       "      <th>Accident.Number</th>\n",
       "      <th>Event.Date</th>\n",
       "      <th>Location</th>\n",
       "      <th>Country</th>\n",
       "      <th>Injury.Severity</th>\n",
       "      <th>Aircraft.damage</th>\n",
       "      <th>Registration.Number</th>\n",
       "      <th>Make</th>\n",
       "      <th>Model</th>\n",
       "      <th>Amateur.Built</th>\n",
       "      <th>Number.of.Engines</th>\n",
       "      <th>Engine.Type</th>\n",
       "      <th>Purpose.of.flight</th>\n",
       "      <th>Total.Fatal.Injuries</th>\n",
       "      <th>Total.Serious.Injuries</th>\n",
       "      <th>Total.Minor.Injuries</th>\n",
       "      <th>Total.Uninjured</th>\n",
       "      <th>Weather.Condition</th>\n",
       "      <th>Report.Status</th>\n",
       "    </tr>\n",
       "  </thead>\n",
       "  <tbody>\n",
       "    <tr>\n",
       "      <th>88639</th>\n",
       "      <td>20221011106092</td>\n",
       "      <td>Accident</td>\n",
       "      <td>CEN23LA008</td>\n",
       "      <td>2022-10-06</td>\n",
       "      <td>Iola, TX</td>\n",
       "      <td>United States</td>\n",
       "      <td>Non-Fatal</td>\n",
       "      <td>Substantial</td>\n",
       "      <td>N18158</td>\n",
       "      <td>Cessna</td>\n",
       "      <td>150</td>\n",
       "      <td>No</td>\n",
       "      <td>1.0</td>\n",
       "      <td>Reciprocating</td>\n",
       "      <td>Personal</td>\n",
       "      <td>0.0</td>\n",
       "      <td>0.0</td>\n",
       "      <td>0.0</td>\n",
       "      <td>1.0</td>\n",
       "      <td>VMC</td>\n",
       "      <td>The pilots failure to maintain control of the...</td>\n",
       "    </tr>\n",
       "    <tr>\n",
       "      <th>88647</th>\n",
       "      <td>20221011106098</td>\n",
       "      <td>Accident</td>\n",
       "      <td>ERA23LA014</td>\n",
       "      <td>2022-10-08</td>\n",
       "      <td>Dacula, GA</td>\n",
       "      <td>United States</td>\n",
       "      <td>Non-Fatal</td>\n",
       "      <td>Substantial</td>\n",
       "      <td>N2047Q</td>\n",
       "      <td>Cessna</td>\n",
       "      <td>177RG</td>\n",
       "      <td>No</td>\n",
       "      <td>1.0</td>\n",
       "      <td>Reciprocating</td>\n",
       "      <td>Personal</td>\n",
       "      <td>0.0</td>\n",
       "      <td>0.0</td>\n",
       "      <td>0.0</td>\n",
       "      <td>2.0</td>\n",
       "      <td>VMC</td>\n",
       "      <td>An in-flight collision with a bird while on ap...</td>\n",
       "    </tr>\n",
       "    <tr>\n",
       "      <th>88661</th>\n",
       "      <td>20221018106153</td>\n",
       "      <td>Accident</td>\n",
       "      <td>CEN23LA015</td>\n",
       "      <td>2022-10-13</td>\n",
       "      <td>Ardmore, OK</td>\n",
       "      <td>United States</td>\n",
       "      <td>Non-Fatal</td>\n",
       "      <td>Substantial</td>\n",
       "      <td>N2889W</td>\n",
       "      <td>Beech</td>\n",
       "      <td>B</td>\n",
       "      <td>No</td>\n",
       "      <td>2.0</td>\n",
       "      <td>Reciprocating</td>\n",
       "      <td>Personal</td>\n",
       "      <td>0.0</td>\n",
       "      <td>0.0</td>\n",
       "      <td>0.0</td>\n",
       "      <td>1.0</td>\n",
       "      <td>VMC</td>\n",
       "      <td>The pilot did not ensure adequate clearance fr...</td>\n",
       "    </tr>\n",
       "    <tr>\n",
       "      <th>88735</th>\n",
       "      <td>20221031106231</td>\n",
       "      <td>Accident</td>\n",
       "      <td>CEN23LA023</td>\n",
       "      <td>2022-10-29</td>\n",
       "      <td>Houston, TX</td>\n",
       "      <td>United States</td>\n",
       "      <td>Minor</td>\n",
       "      <td>Substantial</td>\n",
       "      <td>N778MS</td>\n",
       "      <td>Stephen</td>\n",
       "      <td>MS</td>\n",
       "      <td>Yes</td>\n",
       "      <td>1.0</td>\n",
       "      <td>Reciprocating</td>\n",
       "      <td>ASHO</td>\n",
       "      <td>0.0</td>\n",
       "      <td>1.0</td>\n",
       "      <td>0.0</td>\n",
       "      <td>0.0</td>\n",
       "      <td>VMC</td>\n",
       "      <td>The pilots failure to secure the magneto swit...</td>\n",
       "    </tr>\n",
       "    <tr>\n",
       "      <th>88767</th>\n",
       "      <td>20221109106272</td>\n",
       "      <td>Accident</td>\n",
       "      <td>CEN23LA033</td>\n",
       "      <td>2022-11-09</td>\n",
       "      <td>Bridgeport, TX</td>\n",
       "      <td>United States</td>\n",
       "      <td>Non-Fatal</td>\n",
       "      <td>Substantial</td>\n",
       "      <td>N1855K</td>\n",
       "      <td>Luscombe</td>\n",
       "      <td>8E</td>\n",
       "      <td>No</td>\n",
       "      <td>1.0</td>\n",
       "      <td>Reciprocating</td>\n",
       "      <td>Personal</td>\n",
       "      <td>0.0</td>\n",
       "      <td>0.0</td>\n",
       "      <td>0.0</td>\n",
       "      <td>2.0</td>\n",
       "      <td>VMC</td>\n",
       "      <td>The pilots loss of control due to a wind gust...</td>\n",
       "    </tr>\n",
       "  </tbody>\n",
       "</table>\n",
       "</div>"
      ],
      "text/plain": [
       "             Event.Id Investigation.Type Accident.Number  Event.Date  \\\n",
       "88639  20221011106092           Accident      CEN23LA008  2022-10-06   \n",
       "88647  20221011106098           Accident      ERA23LA014  2022-10-08   \n",
       "88661  20221018106153           Accident      CEN23LA015  2022-10-13   \n",
       "88735  20221031106231           Accident      CEN23LA023  2022-10-29   \n",
       "88767  20221109106272           Accident      CEN23LA033  2022-11-09   \n",
       "\n",
       "             Location        Country Injury.Severity Aircraft.damage  \\\n",
       "88639        Iola, TX  United States       Non-Fatal     Substantial   \n",
       "88647      Dacula, GA  United States       Non-Fatal     Substantial   \n",
       "88661     Ardmore, OK  United States       Non-Fatal     Substantial   \n",
       "88735     Houston, TX  United States           Minor     Substantial   \n",
       "88767  Bridgeport, TX  United States       Non-Fatal     Substantial   \n",
       "\n",
       "      Registration.Number      Make  Model Amateur.Built  Number.of.Engines  \\\n",
       "88639              N18158    Cessna    150            No                1.0   \n",
       "88647              N2047Q    Cessna  177RG            No                1.0   \n",
       "88661              N2889W     Beech      B            No                2.0   \n",
       "88735              N778MS   Stephen     MS           Yes                1.0   \n",
       "88767              N1855K  Luscombe     8E            No                1.0   \n",
       "\n",
       "         Engine.Type Purpose.of.flight  Total.Fatal.Injuries  \\\n",
       "88639  Reciprocating          Personal                   0.0   \n",
       "88647  Reciprocating          Personal                   0.0   \n",
       "88661  Reciprocating          Personal                   0.0   \n",
       "88735  Reciprocating              ASHO                   0.0   \n",
       "88767  Reciprocating          Personal                   0.0   \n",
       "\n",
       "       Total.Serious.Injuries  Total.Minor.Injuries  Total.Uninjured  \\\n",
       "88639                     0.0                   0.0              1.0   \n",
       "88647                     0.0                   0.0              2.0   \n",
       "88661                     0.0                   0.0              1.0   \n",
       "88735                     1.0                   0.0              0.0   \n",
       "88767                     0.0                   0.0              2.0   \n",
       "\n",
       "      Weather.Condition                                      Report.Status  \n",
       "88639               VMC  The pilots failure to maintain control of the...  \n",
       "88647               VMC  An in-flight collision with a bird while on ap...  \n",
       "88661               VMC  The pilot did not ensure adequate clearance fr...  \n",
       "88735               VMC  The pilots failure to secure the magneto swit...  \n",
       "88767               VMC  The pilots loss of control due to a wind gust...  "
      ]
     },
     "execution_count": 100,
     "metadata": {},
     "output_type": "execute_result"
    }
   ],
   "source": [
    "# Setting the option to display all columns and displaying the first few rows of the dataframe\n",
    "pd.set_option('display.max_columns', None)\n",
    "\n",
    "# Display the first few rows of the dataframe\n",
    "df.tail()\n"
   ]
  },
  {
   "cell_type": "code",
   "execution_count": 101,
   "metadata": {},
   "outputs": [],
   "source": [
    "# Remove duplicates\n",
    "df.fillna('', inplace=True) \n",
    "df.drop_duplicates(inplace=True)"
   ]
  },
  {
   "cell_type": "code",
   "execution_count": 102,
   "metadata": {},
   "outputs": [],
   "source": [
    "# Convert event date to datetime\n",
    "\n",
    "df['Event.Date'] = pd.to_datetime(df['Event.Date'], errors='coerce')  "
   ]
  },
  {
   "cell_type": "code",
   "execution_count": 103,
   "metadata": {},
   "outputs": [],
   "source": [
    "# Remove duplicate rows in the dataset\n",
    "df.drop_duplicates(inplace=True)\n"
   ]
  },
  {
   "cell_type": "code",
   "execution_count": 104,
   "metadata": {},
   "outputs": [
    {
     "name": "stdout",
     "output_type": "stream",
     "text": [
      "Event.Id                  0\n",
      "Investigation.Type        0\n",
      "Accident.Number           0\n",
      "Event.Date                0\n",
      "Location                  0\n",
      "Country                   0\n",
      "Injury.Severity           0\n",
      "Aircraft.damage           0\n",
      "Registration.Number       0\n",
      "Make                      0\n",
      "Model                     0\n",
      "Amateur.Built             0\n",
      "Number.of.Engines         0\n",
      "Engine.Type               0\n",
      "Purpose.of.flight         0\n",
      "Total.Fatal.Injuries      0\n",
      "Total.Serious.Injuries    0\n",
      "Total.Minor.Injuries      0\n",
      "Total.Uninjured           0\n",
      "Weather.Condition         0\n",
      "Report.Status             0\n",
      "dtype: int64\n"
     ]
    }
   ],
   "source": [
    "# Check for missing values in each column\n",
    "missing_data = df.isnull().sum()\n",
    "print(missing_data)\n"
   ]
  },
  {
   "cell_type": "code",
   "execution_count": 105,
   "metadata": {},
   "outputs": [],
   "source": [
    "# Save the cleaned data to a new CSV file\n",
    "df.to_csv('clean_aviation_data.csv', index=False)\n"
   ]
  },
  {
   "cell_type": "markdown",
   "metadata": {},
   "source": [
    "## Data Analysis and Visualization\n"
   ]
  },
  {
   "cell_type": "markdown",
   "metadata": {},
   "source": [
    " ### 1. How is the Trend of Aircraft Incidents Over Time?\n",
    "This will help us understand the reliability of aircraft over the years and possibly link it with newer models or technologies."
   ]
  },
  {
   "cell_type": "code",
   "execution_count": 106,
   "metadata": {},
   "outputs": [
    {
     "data": {
      "image/png": "[encoded data removed]",
      "text/plain": [
       "<Figure size 720x432 with 1 Axes>"
      ]
     },
     "metadata": {
      "needs_background": "light"
     },
     "output_type": "display_data"
    }
   ],
   "source": [
    "# Line plot for number of incidents over time\n",
    "df['year'] = pd.to_datetime(df['Event.Date'], errors='coerce').dt.year\n",
    "incidents_per_year = df.groupby('year').size()\n",
    "\n",
    "plt.figure(figsize=(10,6))\n",
    "plt.plot(incidents_per_year)\n",
    "plt.title('Incidents Per Year')\n",
    "plt.xlabel('Year')\n",
    "plt.ylabel('Number of Incidents')\n",
    "plt.show()\n"
   ]
  },
  {
   "cell_type": "markdown",
   "metadata": {},
   "source": [
    "### 2. How are Incidents by Aircraft Manufacturer?\n",
    "To understand the safety record, we visualize how different manufacturers fare in terms of incidents or accidents."
   ]
  },
  {
   "cell_type": "code",
   "execution_count": 107,
   "metadata": {},
   "outputs": [
    {
     "data": {
      "image/png": "[encoded data removed]",
      "text/plain": [
       "<Figure size 720x432 with 1 Axes>"
      ]
     },
     "metadata": {
      "needs_background": "light"
     },
     "output_type": "display_data"
    }
   ],
   "source": [
    "# Bar plot of incidents by top manufacturers\n",
    "plt.figure(figsize=(10,6))\n",
    "sns.countplot(x='Make', data=df, order=df['Make'].value_counts().iloc[:10].index)\n",
    "plt.xticks(rotation=45)\n",
    "plt.title('Incidents by Top Manufacturers')\n",
    "plt.show()\n"
   ]
  },
  {
   "cell_type": "markdown",
   "metadata": {},
   "source": [
    "### 3. Let's see Aircraft Incidents by Engine Type\n",
    "Certain engine types may be associated with more incidents, giving insight into the safety of engine types."
   ]
  },
  {
   "cell_type": "code",
   "execution_count": 108,
   "metadata": {},
   "outputs": [
    {
     "data": {
      "image/png": "[encoded data removed]",
      "text/plain": [
       "<Figure size 720x432 with 1 Axes>"
      ]
     },
     "metadata": {
      "needs_background": "light"
     },
     "output_type": "display_data"
    }
   ],
   "source": [
    "# Count of incidents by engine type\n",
    "plt.figure(figsize=(10,6))\n",
    "sns.countplot(x='Engine.Type', data=df)\n",
    "plt.xticks(rotation=45)\n",
    "plt.title('Incidents by Engine Type')\n",
    "plt.show()\n"
   ]
  },
  {
   "cell_type": "markdown",
   "metadata": {},
   "source": [
    "### 4. Which are the Top Aircraft Models?\n",
    "We can explore the distribution of aircraft models, helping us identify which models are most commonly used or involved in incidents."
   ]
  },
  {
   "cell_type": "code",
   "execution_count": 109,
   "metadata": {},
   "outputs": [
    {
     "data": {
      "image/png": "[encoded data removed]",
      "text/plain": [
       "<Figure size 720x432 with 1 Axes>"
      ]
     },
     "metadata": {
      "needs_background": "light"
     },
     "output_type": "display_data"
    }
   ],
   "source": [
    "# Bar plot of top aircraft models\n",
    "plt.figure(figsize=(10,6))\n",
    "sns.countplot(x='Model', data=df, order=df['Model'].value_counts().iloc[:10].index)\n",
    "plt.xticks(rotation=45)\n",
    "plt.title('Top 10 Aircraft Models')\n",
    "plt.xlabel('Model')\n",
    "plt.ylabel('Count')\n",
    "plt.show()\n"
   ]
  },
  {
   "cell_type": "markdown",
   "metadata": {},
   "source": [
    "### 5. Which are the Top Aircraft Manufacturers?\n",
    "This will give us insights into the most commonly used aircraft manufacturers and their frequency in incidents or operations."
   ]
  },
  {
   "cell_type": "code",
   "execution_count": 110,
   "metadata": {},
   "outputs": [
    {
     "data": {
      "image/png": "[encoded data removed]",
      "text/plain": [
       "<Figure size 720x432 with 1 Axes>"
      ]
     },
     "metadata": {
      "needs_background": "light"
     },
     "output_type": "display_data"
    }
   ],
   "source": [
    "# Bar plot of the most common aircraft manufacturers\n",
    "plt.figure(figsize=(10,6))\n",
    "sns.countplot(x='Make', data=df, order=df['Make'].value_counts().iloc[:10].index)\n",
    "plt.xticks(rotation=45)\n",
    "plt.title('Top 10 Aircraft Manufacturers')\n",
    "plt.xlabel('Manufacturer')\n",
    "plt.ylabel('Count')\n",
    "plt.show()\n"
   ]
  },
  {
   "cell_type": "markdown",
   "metadata": {},
   "source": [
    "### 6. How does Weather Conditions Impact on Aircraft Incidents?\n",
    "Understanding how weather conditions affect aircraft incidents will give insights into suitable aircraft for different weather."
   ]
  },
  {
   "cell_type": "code",
   "execution_count": 111,
   "metadata": {},
   "outputs": [
    {
     "data": {
      "image/png": "[encoded data removed]",
      "text/plain": [
       "<Figure size 432x432 with 1 Axes>"
      ]
     },
     "metadata": {},
     "output_type": "display_data"
    }
   ],
   "source": [
    "# Pie chart of weather conditions\n",
    "weather_counts = df['Weather.Condition'].value_counts()\n",
    "plt.figure(figsize=(6,6))\n",
    "plt.pie(weather_counts, labels=weather_counts.index, autopct='%1.1f%%', startangle=140)\n",
    "plt.title('Proportion of Weather Conditions')\n",
    "plt.show()\n"
   ]
  },
  {
   "cell_type": "markdown",
   "metadata": {},
   "source": [
    "## Final Data Analysis and Conclusion"
   ]
  },
  {
   "cell_type": "code",
   "execution_count": 112,
   "metadata": {},
   "outputs": [
    {
     "name": "stdout",
     "output_type": "stream",
     "text": [
      "Cessna      21268\n",
      "Piper       11714\n",
      "Beech        3988\n",
      "Bell         1867\n",
      "Grumman      1302\n",
      "Mooney       1066\n",
      "Robinson      942\n",
      "Bellanca      877\n",
      "Boeing        723\n",
      "Hughes        710\n",
      "Name: Make, dtype: int64\n"
     ]
    }
   ],
   "source": [
    "# Count the number of incidents for each aircraft manufacturer (Make)\n",
    "incident_by_make = df['Make'].value_counts()\n",
    "print(incident_by_make.head(10))  # Display top 10 makes by incident count\n"
   ]
  },
  {
   "cell_type": "code",
   "execution_count": 113,
   "metadata": {},
   "outputs": [
    {
     "name": "stdout",
     "output_type": "stream",
     "text": [
      "PA      10351\n",
      "152      2119\n",
      "172      1481\n",
      "G        1039\n",
      "172N      924\n",
      "150       720\n",
      "172M      642\n",
      "AT        597\n",
      "172P      558\n",
      "180       521\n",
      "Name: Model, dtype: int64\n"
     ]
    }
   ],
   "source": [
    "# Count the number of incidents for each aircraft model\n",
    "incident_by_model = df['Model'].value_counts()\n",
    "print(incident_by_model.head(10))  # Display top 10 models by incident count\n"
   ]
  },
  {
   "cell_type": "code",
   "execution_count": 114,
   "metadata": {},
   "outputs": [
    {
     "data": {
      "text/plain": [
       "PA       147871.428571\n",
       "152       30271.428571\n",
       "172       21157.142857\n",
       "G         14842.857143\n",
       "172N      13200.000000\n",
       "             ...      \n",
       "58H          14.285714\n",
       "C182R        14.285714\n",
       "C175         14.285714\n",
       "4/210        14.285714\n",
       "S20          14.285714\n",
       "Name: Model, Length: 3315, dtype: float64"
      ]
     },
     "execution_count": 114,
     "metadata": {},
     "output_type": "execute_result"
    }
   ],
   "source": [
    "# Get the total number of incidents in the dataset\n",
    "total_incidents = df.shape[0]\n",
    "total_incidents\n",
    "\n",
    "total_aircraft_in_use = 7\n",
    "\n",
    "incident_rate = (incident_by_model / total_aircraft_in_use) * 100\n",
    "incident_rate"
   ]
  },
  {
   "cell_type": "code",
   "execution_count": 115,
   "metadata": {},
   "outputs": [
    {
     "data": {
      "text/html": [
       "<div>\n",
       "<style scoped>\n",
       "    .dataframe tbody tr th:only-of-type {\n",
       "        vertical-align: middle;\n",
       "    }\n",
       "\n",
       "    .dataframe tbody tr th {\n",
       "        vertical-align: top;\n",
       "    }\n",
       "\n",
       "    .dataframe thead th {\n",
       "        text-align: right;\n",
       "    }\n",
       "</style>\n",
       "<table border=\"1\" class=\"dataframe\">\n",
       "  <thead>\n",
       "    <tr style=\"text-align: right;\">\n",
       "      <th></th>\n",
       "      <th>Make</th>\n",
       "      <th>Incident_Count</th>\n",
       "    </tr>\n",
       "  </thead>\n",
       "  <tbody>\n",
       "    <tr>\n",
       "      <th>2029</th>\n",
       "      <td>KnaKenDacWel</td>\n",
       "      <td>1</td>\n",
       "    </tr>\n",
       "    <tr>\n",
       "      <th>2452</th>\n",
       "      <td>Menees</td>\n",
       "      <td>1</td>\n",
       "    </tr>\n",
       "    <tr>\n",
       "      <th>2453</th>\n",
       "      <td>Menzimer</td>\n",
       "      <td>1</td>\n",
       "    </tr>\n",
       "    <tr>\n",
       "      <th>2454</th>\n",
       "      <td>Mercer</td>\n",
       "      <td>1</td>\n",
       "    </tr>\n",
       "    <tr>\n",
       "      <th>2455</th>\n",
       "      <td>Merchant</td>\n",
       "      <td>1</td>\n",
       "    </tr>\n",
       "  </tbody>\n",
       "</table>\n",
       "</div>"
      ],
      "text/plain": [
       "              Make  Incident_Count\n",
       "2029  KnaKenDacWel               1\n",
       "2452        Menees               1\n",
       "2453      Menzimer               1\n",
       "2454        Mercer               1\n",
       "2455      Merchant               1"
      ]
     },
     "execution_count": 115,
     "metadata": {},
     "output_type": "execute_result"
    }
   ],
   "source": [
    "# Checking the details of 'Make' and 'Model' to identify unique aircraft types and the number of incidents per make.\n",
    "# This can help in identifying which aircraft manufacturers or models have fewer incidents.\n",
    "make_model_data = df.groupby('Make').size().reset_index(name='Incident_Count')\n",
    "\n",
    "# Sorting to find manufacturers with fewer incidents\n",
    "make_model_data_sorted = make_model_data.sort_values(by='Incident_Count')\n",
    "\n",
    "# Display the top few aircraft manufacturers with the least incidents\n",
    "make_model_data_sorted.head()\n"
   ]
  },
  {
   "cell_type": "markdown",
   "metadata": {},
   "source": [
    "### Conclusion: \n",
    "* Based on the data analysis, we recommend focusing on aircraft models with low accident and incident rates, especially those that have proven reliable during critical flight phases such as approach and landing. Aircraft that operate efficiently in both Visual and Instrument Meteorological Conditions should also be prioritized to minimize risk in adverse weather. Furthermore, choosing aircraft with modern safety features and lower operating costs will not only reduce risk but also ensure long-term profitability for the aviation division.\n",
    "\n",
    "* From the analysis, I would recommend aircrafts with this make and engine: (models;- 180,172p, AT, 172M, 150), (engine;- UNK, LR,ELECTRIC, TURBO JET, TURBO FAN).\n",
    "      And this aircraft types;- KnaKenDacWel,Menees\t,Menzimer,Mercer, Merchant since they have the least incident cases and seem to be reliable in this case.\n",
    "\n"
   ]
  }
 ],
 "metadata": {
  "kernelspec": {
   "display_name": "base",
   "language": "python",
   "name": "python3"
  },
  "language_info": {
   "codemirror_mode": {
    "name": "ipython",
    "version": 3
   },
   "file_extension": ".py",
   "mimetype": "text/x-python",
   "name": "python",
   "nbconvert_exporter": "python",
   "pygments_lexer": "ipython3",
   "version": "3.9.12"
  }
 },
 "nbformat": 4,
 "nbformat_minor": 2
}
